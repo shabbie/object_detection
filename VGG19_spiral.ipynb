{
 "cells": [
  {
   "cell_type": "code",
   "execution_count": 1,
   "metadata": {},
   "outputs": [
    {
     "name": "stderr",
     "output_type": "stream",
     "text": [
      "Using TensorFlow backend.\n"
     ]
    }
   ],
   "source": [
    "# import libraries \n",
    "from keras.preprocessing.image import img_to_array\n",
    "from keras.applications.vgg16 import preprocess_input\n",
    "from keras.applications.vgg16 import decode_predictions\n",
    "\n",
    "#from keras.applications.vgg16 import VGG16\n",
    "from keras.applications.vgg19 import VGG19\n",
    "from keras.preprocessing.image import load_img\n",
    "\n",
    "from imutils import paths\n",
    "import cv2 as cv\n",
    "import numpy as np\n",
    "import time\n",
    "import os"
   ]
  },
  {
   "cell_type": "code",
   "execution_count": 2,
   "metadata": {
    "colab": {},
    "colab_type": "code",
    "id": "HDDpTLekMmib"
   },
   "outputs": [],
   "source": [
    "def spiralForm(m, n, a) : \n",
    "    k = 0; l = 0\n",
    "  \n",
    "    ''' k - starting row index \n",
    "        m - ending row index \n",
    "        l - starting column index \n",
    "        n - ending column index \n",
    "        i - iterator '''\n",
    "      \n",
    "  \n",
    "    while (k < m and l < n) : \n",
    "          \n",
    "        # append the first row from the remaining rows  \n",
    "        for i in range(l, n) : \n",
    "            reverse_spiral.append(a[k][i])\n",
    "              \n",
    "        k += 1\n",
    "  \n",
    "        # append the last column from the remaining columns  \n",
    "        for i in range(k, m) : \n",
    "            reverse_spiral.append(a[i][n - 1])\n",
    "              \n",
    "        n -= 1\n",
    "  \n",
    "        # append the last row from the remaining rows  \n",
    "        if ( k < m) : \n",
    "            for i in range(n - 1, (l - 1), -1) : \n",
    "                reverse_spiral.append(a[m - 1][i])\n",
    "              \n",
    "            m -= 1\n",
    "          \n",
    "        # append the first column from the remaining columns  \n",
    "        if (l < n) : \n",
    "            for i in range(m - 1, k - 1, -1) : \n",
    "                reverse_spiral.append(a[i][l])\n",
    "              \n",
    "            l += 1"
   ]
  },
  {
   "cell_type": "code",
   "execution_count": 3,
   "metadata": {
    "colab": {},
    "colab_type": "code",
    "id": "lbBsAL_4OLRw"
   },
   "outputs": [],
   "source": [
    "def rev_spiral(r,c,window,reverse_spiral):\n",
    "\n",
    "    window_size = window\n",
    "    rows = r\n",
    "    cols = c\n",
    "    a=np.zeros((rows,cols,2))\n",
    "    count=0\n",
    "    for l,i in zip(range(0,rows,1),range(window_size,height+1,window_size)):\n",
    "        for m,j in zip(range(0,cols,1),range(window_size,width+1,window_size)):\n",
    "            a[l,m]=[i,j]\n",
    "\n",
    "    a=a.astype(int)\n",
    "    spiralForm(rows, cols, a) \n",
    "    reverse_spiral.reverse()\n",
    "    reverse_spiral = np.array(reverse_spiral)    "
   ]
  },
  {
   "cell_type": "code",
   "execution_count": null,
   "metadata": {
    "colab": {},
    "colab_type": "code",
    "id": "ZXLV6-4IfN-t"
   },
   "outputs": [],
   "source": [
    "# import re\n",
    "# def sorted_aphanumeric(data):\n",
    "#     convert = lambda text: int(text) if text.isdigit() else text.lower()\n",
    "#     alphanum_key = lambda key: [ convert(c) for c in re.split('([0-9]+)', key) ] \n",
    "#     return sorted(data, key=alphanum_key)"
   ]
  },
  {
   "cell_type": "code",
   "execution_count": 4,
   "metadata": {},
   "outputs": [
    {
     "name": "stdout",
     "output_type": "stream",
     "text": [
      "Model: \"vgg19\"\n",
      "_________________________________________________________________\n",
      "Layer (type)                 Output Shape              Param #   \n",
      "=================================================================\n",
      "input_1 (InputLayer)         (None, 224, 224, 3)       0         \n",
      "_________________________________________________________________\n",
      "block1_conv1 (Conv2D)        (None, 224, 224, 64)      1792      \n",
      "_________________________________________________________________\n",
      "block1_conv2 (Conv2D)        (None, 224, 224, 64)      36928     \n",
      "_________________________________________________________________\n",
      "block1_pool (MaxPooling2D)   (None, 112, 112, 64)      0         \n",
      "_________________________________________________________________\n",
      "block2_conv1 (Conv2D)        (None, 112, 112, 128)     73856     \n",
      "_________________________________________________________________\n",
      "block2_conv2 (Conv2D)        (None, 112, 112, 128)     147584    \n",
      "_________________________________________________________________\n",
      "block2_pool (MaxPooling2D)   (None, 56, 56, 128)       0         \n",
      "_________________________________________________________________\n",
      "block3_conv1 (Conv2D)        (None, 56, 56, 256)       295168    \n",
      "_________________________________________________________________\n",
      "block3_conv2 (Conv2D)        (None, 56, 56, 256)       590080    \n",
      "_________________________________________________________________\n",
      "block3_conv3 (Conv2D)        (None, 56, 56, 256)       590080    \n",
      "_________________________________________________________________\n",
      "block3_conv4 (Conv2D)        (None, 56, 56, 256)       590080    \n",
      "_________________________________________________________________\n",
      "block3_pool (MaxPooling2D)   (None, 28, 28, 256)       0         \n",
      "_________________________________________________________________\n",
      "block4_conv1 (Conv2D)        (None, 28, 28, 512)       1180160   \n",
      "_________________________________________________________________\n",
      "block4_conv2 (Conv2D)        (None, 28, 28, 512)       2359808   \n",
      "_________________________________________________________________\n",
      "block4_conv3 (Conv2D)        (None, 28, 28, 512)       2359808   \n",
      "_________________________________________________________________\n",
      "block4_conv4 (Conv2D)        (None, 28, 28, 512)       2359808   \n",
      "_________________________________________________________________\n",
      "block4_pool (MaxPooling2D)   (None, 14, 14, 512)       0         \n",
      "_________________________________________________________________\n",
      "block5_conv1 (Conv2D)        (None, 14, 14, 512)       2359808   \n",
      "_________________________________________________________________\n",
      "block5_conv2 (Conv2D)        (None, 14, 14, 512)       2359808   \n",
      "_________________________________________________________________\n",
      "block5_conv3 (Conv2D)        (None, 14, 14, 512)       2359808   \n",
      "_________________________________________________________________\n",
      "block5_conv4 (Conv2D)        (None, 14, 14, 512)       2359808   \n",
      "_________________________________________________________________\n",
      "block5_pool (MaxPooling2D)   (None, 7, 7, 512)         0         \n",
      "_________________________________________________________________\n",
      "flatten (Flatten)            (None, 25088)             0         \n",
      "_________________________________________________________________\n",
      "fc1 (Dense)                  (None, 4096)              102764544 \n",
      "_________________________________________________________________\n",
      "fc2 (Dense)                  (None, 4096)              16781312  \n",
      "_________________________________________________________________\n",
      "predictions (Dense)          (None, 1000)              4097000   \n",
      "=================================================================\n",
      "Total params: 143,667,240\n",
      "Trainable params: 143,667,240\n",
      "Non-trainable params: 0\n",
      "_________________________________________________________________\n",
      "None\n"
     ]
    }
   ],
   "source": [
    "# parameters\n",
    "\n",
    "inputPath =\"InputImages/\"\n",
    "outputPath=\"OutputImages/\"\n",
    "imagelistInput = os.listdir(inputPath)\n",
    "# imagePaths = sorted_aphanumeric(imagePaths)\n",
    "monkey =[\"chimpanzee\",\"gorilla\",\"guenon\",\"patas\",\"baboon\",\"macaque\",\"langur\",\"colobus\",\"proboscis_monkey\",\"marmoset\",\"capuchin\",\"howler_monkey\",\"titi\",\"spider_monkey\",\"squirrel_monkey\",\"guenon_monkey\",\"hussar_monkey\",\"Erythrocebus_patas\",\"colobus_monkey\",\"Nasalis_larvatus\",\"ringtail\",\"Cebus_capucinus\",\"howler\",\"titi_monkey\",\"Ateles_geoffroyi\",\"Saimiri_sciureus\"]\n",
    "\n",
    "predicted_list =[]\n",
    "time_taken =[]\n",
    "\n",
    "# load model\n",
    "model = VGG19()\n",
    "print(model.summary())"
   ]
  },
  {
   "cell_type": "code",
   "execution_count": 5,
   "metadata": {
    "colab": {
     "base_uri": "https://localhost:8080/",
     "height": 41005
    },
    "colab_type": "code",
    "executionInfo": {
     "elapsed": 67663,
     "status": "ok",
     "timestamp": 1555846328329,
     "user": {
      "displayName": "Mitalee Shingala",
      "photoUrl": "",
      "userId": "14082870536852836834"
     },
     "user_tz": -330
    },
    "id": "NQ0CrHhcQ0UH",
    "outputId": "167da44b-98ec-4deb-d3fe-8e30e184461a"
   },
   "outputs": [
    {
     "name": "stdout",
     "output_type": "stream",
     "text": [
      "16b5881aa0469a10.jpg\n",
      "Monkey detected\n",
      "Time :  1.198 \n",
      "\n",
      "monkey1.jpg\n",
      "Monkey detected\n",
      "Time :  6.488 \n",
      "\n",
      "monkey_s.jpg\n",
      "Monkey detected\n",
      "Time :  2.993 \n",
      "\n",
      "test.jpeg\n",
      "Time :  28.036 \n",
      "\n",
      "yolo_out_py17.jpg\n",
      "Monkey detected\n",
      "Time :  1.960 \n",
      "\n",
      "[1, 1, 1, 0, 1] ['1.198', '6.488', '2.993', '28.036', '1.960']\n"
     ]
    }
   ],
   "source": [
    "# Process inputs\n",
    "\n",
    "#create a plot of the layers in the VGG mode  \n",
    "for file_name in imagelistInput:\n",
    "    print(file_name)\n",
    "    \n",
    "    # load an image from file\n",
    "    img = cv.imread(inputPath+file_name)\n",
    "    tok =time.time() \n",
    "    reverse_spiral=[]\n",
    "    height = img.shape[0]\n",
    "    width = img.shape[1]\n",
    "    count=0\n",
    "    window = 224\n",
    "    rows = int(height/224)\n",
    "    cols = int(width/224)\n",
    "    flag=0\n",
    "    rev_spiral(rows,cols,window,reverse_spiral)\n",
    "    \n",
    "    arr3d = np.reshape(reverse_spiral, (rows, cols, 2))\n",
    "    \n",
    "    for i in range(0,rows,1):\n",
    "        for j in range(0,cols,1):\n",
    "            image = img[arr3d[i][j][0]-window:arr3d[i][j][0],arr3d[i][j][1]-window:arr3d[i][j][1]]\n",
    "            count+=1\n",
    "\n",
    "            # convert the image pixels to a numpy array\n",
    "            image = img_to_array(image)\n",
    "            # reshape data for the model\n",
    "            image = image.reshape((1, image.shape[0], image.shape[1], image.shape[2]))\n",
    "            # prepare the image for the VGG model\n",
    "            image = preprocess_input(image)\n",
    "            # predict the probability across all output classes\n",
    "            yhat = model.predict(image)\n",
    "            # convert the probabilities to class labels\n",
    "            label = decode_predictions(yhat)\n",
    "            # retrieve the most likely result, e.g. highest probability\n",
    "            label = label[0][0]\n",
    "            if(label[2]>0.1):\n",
    "                if(label[1] in monkey):\n",
    "                    predicted_list.append(1)\n",
    "                    flag=1\n",
    "                    print(\"Monkey detected\")\n",
    "                    break\n",
    "        if(flag==1):\n",
    "            break\n",
    "    if(flag==0):\n",
    "        predicted_list.append(0)\n",
    "    tik=time.time()\n",
    "    time_taken.append('%.3f'%(tik-tok))\n",
    "    print(\"Time : \", '%.3f'%(tik-tok),\"\\n\")\n",
    "\n",
    "print(predicted_list, time_taken)"
   ]
  },
  {
   "cell_type": "code",
   "execution_count": null,
   "metadata": {
    "colab": {},
    "colab_type": "code",
    "id": "HJW4xxNWplOq"
   },
   "outputs": [],
   "source": []
  }
 ],
 "metadata": {
  "accelerator": "GPU",
  "colab": {
   "collapsed_sections": [],
   "name": "vgg19_2.ipynb",
   "provenance": [],
   "version": "0.3.2"
  },
  "kernelspec": {
   "display_name": "Python 3",
   "language": "python",
   "name": "python3"
  },
  "language_info": {
   "codemirror_mode": {
    "name": "ipython",
    "version": 3
   },
   "file_extension": ".py",
   "mimetype": "text/x-python",
   "name": "python",
   "nbconvert_exporter": "python",
   "pygments_lexer": "ipython3",
   "version": "3.7.4"
  }
 },
 "nbformat": 4,
 "nbformat_minor": 1
}
