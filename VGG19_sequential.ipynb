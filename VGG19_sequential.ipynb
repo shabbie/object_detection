{
 "cells": [
  {
   "cell_type": "code",
   "execution_count": null,
   "metadata": {
    "colab": {},
    "colab_type": "code",
    "id": "Wlr7ADO4urSg"
   },
   "outputs": [],
   "source": [
    "# import re\n",
    "# def sorted_aphanumeric(data):\n",
    "#     convert = lambda text: int(text) if text.isdigit() else text.lower()\n",
    "#     alphanum_key = lambda key: [ convert(c) for c in re.split('([0-9]+)', key) ] \n",
    "#     return sorted(data, key=alphanum_key)"
   ]
  },
  {
   "cell_type": "code",
   "execution_count": null,
   "metadata": {
    "colab": {},
    "colab_type": "code",
    "id": "AxexG0UByt_C"
   },
   "outputs": [],
   "source": [
    "# import libraries \n",
    "from keras.preprocessing.image import img_to_array\n",
    "from keras.applications.vgg16 import preprocess_input\n",
    "from keras.applications.vgg16 import decode_predictions\n",
    "\n",
    "from keras.applications.vgg19 import VGG19\n",
    "from keras.preprocessing.image import load_img\n",
    "\n",
    "from imutils import paths\n",
    "import cv2 as cv\n",
    "import numpy as np\n",
    "import time\n",
    "import os"
   ]
  },
  {
   "cell_type": "code",
   "execution_count": null,
   "metadata": {},
   "outputs": [],
   "source": [
    "# parameters\n",
    "\n",
    "inputPath =\"InputImages/\"\n",
    "outputPath=\"OutputImages/\"\n",
    "imagelistInput = os.listdir(inputPath)\n",
    "\n",
    "monkey =[\"chimpanzee\",\"gorilla\",\"guenon\",\"patas\",\"baboon\",\"macaque\",\"langur\",\"colobus\",\"proboscis_monkey\",\"marmoset\",\"capuchin\",\"howler_monkey\",\"titi\",\"spider_monkey\",\"squirrel_monkey\",\"guenon_monkey\",\"hussar_monkey\",\"Erythrocebus_patas\",\"colobus_monkey\",\"Nasalis_larvatus\",\"ringtail\",\"Cebus_capucinus\",\"howler\",\"titi_monkey\",\"Ateles_geoffroyi\",\"Saimiri_sciureus\"]\n",
    "\n",
    "predicted_list =[]\n",
    "time_taken =[]\n",
    "\n",
    "# load model\n",
    "model = VGG19()\n",
    "print(model.summary())"
   ]
  },
  {
   "cell_type": "code",
   "execution_count": null,
   "metadata": {
    "colab": {
     "base_uri": "https://localhost:8080/",
     "height": 18706
    },
    "colab_type": "code",
    "executionInfo": {
     "elapsed": 273930,
     "status": "ok",
     "timestamp": 1555832565716,
     "user": {
      "displayName": "Mitalee Shingala",
      "photoUrl": "",
      "userId": "14082870536852836834"
     },
     "user_tz": -330
    },
    "id": "hamrV2v_kWOY",
    "outputId": "628e114c-6c53-47d3-e69f-cf799120302a"
   },
   "outputs": [],
   "source": [
    "# Process inputs\n",
    "\n",
    "#create a plot of the layers in the VGG mode\n",
    "for file_name in imagelistInput:\n",
    "    print(file_name)\n",
    "    tok =time.time()\n",
    "    \n",
    "    # load an image from file\n",
    "    img = cv.imread(inputPath+file_name)\n",
    "    \n",
    "    count=0\n",
    "    window_size = 224\n",
    "    flag=0\n",
    "    \n",
    "    for i in range (window_size,img.shape[0]+1,window_size):\n",
    "        for j in range (window_size,img.shape[1]+1,window_size):\n",
    "        \n",
    "            image = img[i-window_size:i,j-window_size:j]\n",
    "            count+=1\n",
    "            # convert the image pixels to a numpy array\n",
    "            image = img_to_array(image)\n",
    "            # reshape data for the model\n",
    "            image = image.reshape((1, image.shape[0], image.shape[1], image.shape[2]))\n",
    "            # prepare the image for the VGG model\n",
    "            image = preprocess_input(image)\n",
    "            # predict the probability across all output classes\n",
    "            yhat = model.predict(image)\n",
    "            # convert the probabilities to class labels\n",
    "            label = decode_predictions(yhat)\n",
    "            # retrieve the most likely result, e.g. highest probability\n",
    "            label = label[0][0]\n",
    "            \n",
    "            if(label[2]>0.1):\n",
    "                if(label[1] in monkey):\n",
    "                    predicted_list.append(1)\n",
    "                    flag=1\n",
    "                    print(\"Monkey detected\")\n",
    "                    break\n",
    "        if(flag==1):\n",
    "            break\n",
    "    if(flag==0):\n",
    "        predicted_list.append(0)\n",
    "    tik=time.time()\n",
    "    time_taken.append('%.3f'%(tik-tok))\n",
    "    print(\"Time : \", '%.3f'%(tik-tok),\"\\n\")\n",
    "\n",
    "print(predicted_list, time_taken)"
   ]
  },
  {
   "cell_type": "code",
   "execution_count": null,
   "metadata": {},
   "outputs": [],
   "source": []
  }
 ],
 "metadata": {
  "accelerator": "GPU",
  "colab": {
   "collapsed_sections": [],
   "name": "vgg19.ipynb",
   "provenance": [],
   "version": "0.3.2"
  },
  "kernelspec": {
   "display_name": "Python 3",
   "language": "python",
   "name": "python3"
  },
  "language_info": {
   "codemirror_mode": {
    "name": "ipython",
    "version": 3
   },
   "file_extension": ".py",
   "mimetype": "text/x-python",
   "name": "python",
   "nbconvert_exporter": "python",
   "pygments_lexer": "ipython3",
   "version": "3.7.4"
  }
 },
 "nbformat": 4,
 "nbformat_minor": 1
}
